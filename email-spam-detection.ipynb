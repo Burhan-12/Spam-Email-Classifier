{
 "cells": [
  {
   "cell_type": "markdown",
   "id": "39d7ba16",
   "metadata": {
    "papermill": {
     "duration": 0.018045,
     "end_time": "2024-02-13T04:16:09.724525",
     "exception": false,
     "start_time": "2024-02-13T04:16:09.706480",
     "status": "completed"
    },
    "tags": []
   },
   "source": [
    "<div style =bold; Necessary Libraries </em> </div>\n"
   ]
  },
  {
   "cell_type": "markdown",
   "id": "43577f88",
   "metadata": {},
   "source": [
    "# Necessary Libraries for the project"
   ]
  },
  {
   "cell_type": "code",
   "execution_count": 2,
   "id": "339031f3",
   "metadata": {
    "execution": {
     "iopub.execute_input": "2024-02-13T04:16:09.762239Z",
     "iopub.status.busy": "2024-02-13T04:16:09.761869Z",
     "iopub.status.idle": "2024-02-13T04:16:12.482314Z",
     "shell.execute_reply": "2024-02-13T04:16:12.481370Z"
    },
    "papermill": {
     "duration": 2.741705,
     "end_time": "2024-02-13T04:16:12.484310",
     "exception": false,
     "start_time": "2024-02-13T04:16:09.742605",
     "status": "completed"
    },
    "tags": []
   },
   "outputs": [
    {
     "name": "stderr",
     "output_type": "stream",
     "text": [
      "[nltk_data] Downloading package stopwords to\n",
      "[nltk_data]     C:\\Users\\burha\\AppData\\Roaming\\nltk_data...\n",
      "[nltk_data]   Package stopwords is already up-to-date!\n",
      "[nltk_data] Downloading package punkt to\n",
      "[nltk_data]     C:\\Users\\burha\\AppData\\Roaming\\nltk_data...\n",
      "[nltk_data]   Package punkt is already up-to-date!\n"
     ]
    },
    {
     "data": {
      "text/plain": [
       "True"
      ]
     },
     "execution_count": 2,
     "metadata": {},
     "output_type": "execute_result"
    }
   ],
   "source": [
    "# Importing necessary libraries\n",
    "import numpy as np       \n",
    "import pandas as pd      \n",
    "import matplotlib.pyplot as plt  \n",
    "%matplotlib inline\n",
    "\n",
    "# # Importing NLTK for natural language processing\n",
    "import nltk\n",
    "from nltk.corpus import stopwords    # For stopwords\n",
    "\n",
    "# # Downloading NLTK data\n",
    "nltk.download('stopwords') #downloading the stopwords data\n",
    "nltk.download('punkt')       # Downloading tokenizer data\n"
   ]
  },
  {
   "cell_type": "markdown",
   "id": "2d9ea0dd",
   "metadata": {
    "papermill": {
     "duration": 0.018385,
     "end_time": "2024-02-13T04:16:12.559235",
     "exception": false,
     "start_time": "2024-02-13T04:16:12.540850",
     "status": "completed"
    },
    "tags": []
   },
   "source": [
    "# Load the Data\n"
   ]
  },
  {
   "cell_type": "code",
   "execution_count": 3,
   "id": "1af21e42",
   "metadata": {
    "execution": {
     "iopub.execute_input": "2024-02-13T04:16:12.603229Z",
     "iopub.status.busy": "2024-02-13T04:16:12.602024Z",
     "iopub.status.idle": "2024-02-13T04:16:12.641611Z",
     "shell.execute_reply": "2024-02-13T04:16:12.640819Z"
    },
    "papermill": {
     "duration": 0.065736,
     "end_time": "2024-02-13T04:16:12.643564",
     "exception": false,
     "start_time": "2024-02-13T04:16:12.577828",
     "status": "completed"
    },
    "tags": []
   },
   "outputs": [],
   "source": [
    "df = pd.read_csv('spam.csv', encoding='latin1')"
   ]
  },
  {
   "cell_type": "code",
   "execution_count": 4,
   "id": "70ab07a8",
   "metadata": {},
   "outputs": [
    {
     "data": {
      "text/html": [
       "<div>\n",
       "<style scoped>\n",
       "    .dataframe tbody tr th:only-of-type {\n",
       "        vertical-align: middle;\n",
       "    }\n",
       "\n",
       "    .dataframe tbody tr th {\n",
       "        vertical-align: top;\n",
       "    }\n",
       "\n",
       "    .dataframe thead th {\n",
       "        text-align: right;\n",
       "    }\n",
       "</style>\n",
       "<table border=\"1\" class=\"dataframe\">\n",
       "  <thead>\n",
       "    <tr style=\"text-align: right;\">\n",
       "      <th></th>\n",
       "      <th>v1</th>\n",
       "      <th>v2</th>\n",
       "      <th>Unnamed: 2</th>\n",
       "      <th>Unnamed: 3</th>\n",
       "      <th>Unnamed: 4</th>\n",
       "    </tr>\n",
       "  </thead>\n",
       "  <tbody>\n",
       "    <tr>\n",
       "      <th>0</th>\n",
       "      <td>ham</td>\n",
       "      <td>Go until jurong point, crazy.. Available only ...</td>\n",
       "      <td>NaN</td>\n",
       "      <td>NaN</td>\n",
       "      <td>NaN</td>\n",
       "    </tr>\n",
       "    <tr>\n",
       "      <th>1</th>\n",
       "      <td>ham</td>\n",
       "      <td>Ok lar... Joking wif u oni...</td>\n",
       "      <td>NaN</td>\n",
       "      <td>NaN</td>\n",
       "      <td>NaN</td>\n",
       "    </tr>\n",
       "    <tr>\n",
       "      <th>2</th>\n",
       "      <td>spam</td>\n",
       "      <td>Free entry in 2 a wkly comp to win FA Cup fina...</td>\n",
       "      <td>NaN</td>\n",
       "      <td>NaN</td>\n",
       "      <td>NaN</td>\n",
       "    </tr>\n",
       "    <tr>\n",
       "      <th>3</th>\n",
       "      <td>ham</td>\n",
       "      <td>U dun say so early hor... U c already then say...</td>\n",
       "      <td>NaN</td>\n",
       "      <td>NaN</td>\n",
       "      <td>NaN</td>\n",
       "    </tr>\n",
       "    <tr>\n",
       "      <th>4</th>\n",
       "      <td>ham</td>\n",
       "      <td>Nah I don't think he goes to usf, he lives aro...</td>\n",
       "      <td>NaN</td>\n",
       "      <td>NaN</td>\n",
       "      <td>NaN</td>\n",
       "    </tr>\n",
       "  </tbody>\n",
       "</table>\n",
       "</div>"
      ],
      "text/plain": [
       "     v1                                                 v2 Unnamed: 2  \\\n",
       "0   ham  Go until jurong point, crazy.. Available only ...        NaN   \n",
       "1   ham                      Ok lar... Joking wif u oni...        NaN   \n",
       "2  spam  Free entry in 2 a wkly comp to win FA Cup fina...        NaN   \n",
       "3   ham  U dun say so early hor... U c already then say...        NaN   \n",
       "4   ham  Nah I don't think he goes to usf, he lives aro...        NaN   \n",
       "\n",
       "  Unnamed: 3 Unnamed: 4  \n",
       "0        NaN        NaN  \n",
       "1        NaN        NaN  \n",
       "2        NaN        NaN  \n",
       "3        NaN        NaN  \n",
       "4        NaN        NaN  "
      ]
     },
     "execution_count": 4,
     "metadata": {},
     "output_type": "execute_result"
    }
   ],
   "source": [
    "df.head()"
   ]
  },
  {
   "cell_type": "markdown",
   "id": "cadbd925",
   "metadata": {
    "papermill": {
     "duration": 0.018735,
     "end_time": "2024-02-13T04:16:12.866931",
     "exception": false,
     "start_time": "2024-02-13T04:16:12.848196",
     "status": "completed"
    },
    "tags": []
   },
   "source": [
    "# Data Cleaning\n"
   ]
  },
  {
   "cell_type": "code",
   "execution_count": 5,
   "id": "17e60dcb",
   "metadata": {
    "execution": {
     "iopub.execute_input": "2024-02-13T04:16:12.944539Z",
     "iopub.status.busy": "2024-02-13T04:16:12.943585Z",
     "iopub.status.idle": "2024-02-13T04:16:12.975667Z",
     "shell.execute_reply": "2024-02-13T04:16:12.974517Z"
    },
    "papermill": {
     "duration": 0.053762,
     "end_time": "2024-02-13T04:16:12.977593",
     "exception": false,
     "start_time": "2024-02-13T04:16:12.923831",
     "status": "completed"
    },
    "tags": []
   },
   "outputs": [
    {
     "name": "stdout",
     "output_type": "stream",
     "text": [
      "<class 'pandas.core.frame.DataFrame'>\n",
      "RangeIndex: 5572 entries, 0 to 5571\n",
      "Data columns (total 5 columns):\n",
      " #   Column      Non-Null Count  Dtype \n",
      "---  ------      --------------  ----- \n",
      " 0   v1          5572 non-null   object\n",
      " 1   v2          5572 non-null   object\n",
      " 2   Unnamed: 2  50 non-null     object\n",
      " 3   Unnamed: 3  12 non-null     object\n",
      " 4   Unnamed: 4  6 non-null      object\n",
      "dtypes: object(5)\n",
      "memory usage: 217.8+ KB\n"
     ]
    }
   ],
   "source": [
    "df.info()"
   ]
  },
  {
   "cell_type": "code",
   "execution_count": 6,
   "id": "27dc84bc",
   "metadata": {
    "execution": {
     "iopub.execute_input": "2024-02-13T04:16:13.055218Z",
     "iopub.status.busy": "2024-02-13T04:16:13.054912Z",
     "iopub.status.idle": "2024-02-13T04:16:13.062495Z",
     "shell.execute_reply": "2024-02-13T04:16:13.061670Z"
    },
    "papermill": {
     "duration": 0.029794,
     "end_time": "2024-02-13T04:16:13.064539",
     "exception": false,
     "start_time": "2024-02-13T04:16:13.034745",
     "status": "completed"
    },
    "tags": []
   },
   "outputs": [],
   "source": [
    "df.drop(columns = ['Unnamed: 2', 'Unnamed: 3', 'Unnamed: 4'], inplace = True)"
   ]
  },
  {
   "cell_type": "code",
   "execution_count": 7,
   "id": "06d2e303",
   "metadata": {},
   "outputs": [
    {
     "data": {
      "text/html": [
       "<div>\n",
       "<style scoped>\n",
       "    .dataframe tbody tr th:only-of-type {\n",
       "        vertical-align: middle;\n",
       "    }\n",
       "\n",
       "    .dataframe tbody tr th {\n",
       "        vertical-align: top;\n",
       "    }\n",
       "\n",
       "    .dataframe thead th {\n",
       "        text-align: right;\n",
       "    }\n",
       "</style>\n",
       "<table border=\"1\" class=\"dataframe\">\n",
       "  <thead>\n",
       "    <tr style=\"text-align: right;\">\n",
       "      <th></th>\n",
       "      <th>v1</th>\n",
       "      <th>v2</th>\n",
       "    </tr>\n",
       "  </thead>\n",
       "  <tbody>\n",
       "    <tr>\n",
       "      <th>0</th>\n",
       "      <td>ham</td>\n",
       "      <td>Go until jurong point, crazy.. Available only ...</td>\n",
       "    </tr>\n",
       "    <tr>\n",
       "      <th>1</th>\n",
       "      <td>ham</td>\n",
       "      <td>Ok lar... Joking wif u oni...</td>\n",
       "    </tr>\n",
       "    <tr>\n",
       "      <th>2</th>\n",
       "      <td>spam</td>\n",
       "      <td>Free entry in 2 a wkly comp to win FA Cup fina...</td>\n",
       "    </tr>\n",
       "    <tr>\n",
       "      <th>3</th>\n",
       "      <td>ham</td>\n",
       "      <td>U dun say so early hor... U c already then say...</td>\n",
       "    </tr>\n",
       "    <tr>\n",
       "      <th>4</th>\n",
       "      <td>ham</td>\n",
       "      <td>Nah I don't think he goes to usf, he lives aro...</td>\n",
       "    </tr>\n",
       "  </tbody>\n",
       "</table>\n",
       "</div>"
      ],
      "text/plain": [
       "     v1                                                 v2\n",
       "0   ham  Go until jurong point, crazy.. Available only ...\n",
       "1   ham                      Ok lar... Joking wif u oni...\n",
       "2  spam  Free entry in 2 a wkly comp to win FA Cup fina...\n",
       "3   ham  U dun say so early hor... U c already then say...\n",
       "4   ham  Nah I don't think he goes to usf, he lives aro..."
      ]
     },
     "execution_count": 7,
     "metadata": {},
     "output_type": "execute_result"
    }
   ],
   "source": [
    "df.head()"
   ]
  },
  {
   "cell_type": "code",
   "execution_count": 8,
   "id": "5dfc04a2",
   "metadata": {
    "execution": {
     "iopub.execute_input": "2024-02-13T04:16:13.197269Z",
     "iopub.status.busy": "2024-02-13T04:16:13.196988Z",
     "iopub.status.idle": "2024-02-13T04:16:13.201636Z",
     "shell.execute_reply": "2024-02-13T04:16:13.200742Z"
    },
    "papermill": {
     "duration": 0.02745,
     "end_time": "2024-02-13T04:16:13.203626",
     "exception": false,
     "start_time": "2024-02-13T04:16:13.176176",
     "status": "completed"
    },
    "tags": []
   },
   "outputs": [],
   "source": [
    "  # Rename the columns name\n",
    "    #renaming columns helps us to understand which column is used for what purpose\n",
    "    #here in our case target is for ham or spam while text is the actual email which is to be classified\n",
    "    \n",
    "df.rename(columns = {'v1': 'target', 'v2': 'text'}, inplace = True)\n"
   ]
  },
  {
   "cell_type": "code",
   "execution_count": 9,
   "id": "804f88a7",
   "metadata": {
    "execution": {
     "iopub.execute_input": "2024-02-13T04:16:13.283980Z",
     "iopub.status.busy": "2024-02-13T04:16:13.283681Z",
     "iopub.status.idle": "2024-02-13T04:16:13.290597Z",
     "shell.execute_reply": "2024-02-13T04:16:13.289727Z"
    },
    "papermill": {
     "duration": 0.029069,
     "end_time": "2024-02-13T04:16:13.292443",
     "exception": false,
     "start_time": "2024-02-13T04:16:13.263374",
     "status": "completed"
    },
    "tags": []
   },
   "outputs": [],
   "source": [
    "#as our target variable is in in characters and for applyin ml algorithms we need it in numerical so we apply laberlencoder \n",
    "# we can also use python dictionary over here.\n",
    "from sklearn.preprocessing import LabelEncoder\n",
    "encoder = LabelEncoder()\n",
    "df['target'] = encoder.fit_transform(df['target'])"
   ]
  },
  {
   "cell_type": "code",
   "execution_count": 10,
   "id": "8f43819f",
   "metadata": {
    "execution": {
     "iopub.execute_input": "2024-02-13T04:16:13.333292Z",
     "iopub.status.busy": "2024-02-13T04:16:13.333017Z",
     "iopub.status.idle": "2024-02-13T04:16:13.341378Z",
     "shell.execute_reply": "2024-02-13T04:16:13.340521Z"
    },
    "papermill": {
     "duration": 0.030994,
     "end_time": "2024-02-13T04:16:13.343317",
     "exception": false,
     "start_time": "2024-02-13T04:16:13.312323",
     "status": "completed"
    },
    "tags": []
   },
   "outputs": [
    {
     "data": {
      "text/html": [
       "<div>\n",
       "<style scoped>\n",
       "    .dataframe tbody tr th:only-of-type {\n",
       "        vertical-align: middle;\n",
       "    }\n",
       "\n",
       "    .dataframe tbody tr th {\n",
       "        vertical-align: top;\n",
       "    }\n",
       "\n",
       "    .dataframe thead th {\n",
       "        text-align: right;\n",
       "    }\n",
       "</style>\n",
       "<table border=\"1\" class=\"dataframe\">\n",
       "  <thead>\n",
       "    <tr style=\"text-align: right;\">\n",
       "      <th></th>\n",
       "      <th>target</th>\n",
       "      <th>text</th>\n",
       "    </tr>\n",
       "  </thead>\n",
       "  <tbody>\n",
       "    <tr>\n",
       "      <th>0</th>\n",
       "      <td>0</td>\n",
       "      <td>Go until jurong point, crazy.. Available only ...</td>\n",
       "    </tr>\n",
       "    <tr>\n",
       "      <th>1</th>\n",
       "      <td>0</td>\n",
       "      <td>Ok lar... Joking wif u oni...</td>\n",
       "    </tr>\n",
       "    <tr>\n",
       "      <th>2</th>\n",
       "      <td>1</td>\n",
       "      <td>Free entry in 2 a wkly comp to win FA Cup fina...</td>\n",
       "    </tr>\n",
       "    <tr>\n",
       "      <th>3</th>\n",
       "      <td>0</td>\n",
       "      <td>U dun say so early hor... U c already then say...</td>\n",
       "    </tr>\n",
       "    <tr>\n",
       "      <th>4</th>\n",
       "      <td>0</td>\n",
       "      <td>Nah I don't think he goes to usf, he lives aro...</td>\n",
       "    </tr>\n",
       "  </tbody>\n",
       "</table>\n",
       "</div>"
      ],
      "text/plain": [
       "   target                                               text\n",
       "0       0  Go until jurong point, crazy.. Available only ...\n",
       "1       0                      Ok lar... Joking wif u oni...\n",
       "2       1  Free entry in 2 a wkly comp to win FA Cup fina...\n",
       "3       0  U dun say so early hor... U c already then say...\n",
       "4       0  Nah I don't think he goes to usf, he lives aro..."
      ]
     },
     "execution_count": 10,
     "metadata": {},
     "output_type": "execute_result"
    }
   ],
   "source": [
    "df.head()\n",
    "#here we can check whether the label encoding has been applied or not"
   ]
  },
  {
   "cell_type": "code",
   "execution_count": 11,
   "id": "96190685",
   "metadata": {
    "execution": {
     "iopub.execute_input": "2024-02-13T04:16:13.423212Z",
     "iopub.status.busy": "2024-02-13T04:16:13.422954Z",
     "iopub.status.idle": "2024-02-13T04:16:13.430141Z",
     "shell.execute_reply": "2024-02-13T04:16:13.429278Z"
    },
    "papermill": {
     "duration": 0.029745,
     "end_time": "2024-02-13T04:16:13.432131",
     "exception": false,
     "start_time": "2024-02-13T04:16:13.402386",
     "status": "completed"
    },
    "tags": []
   },
   "outputs": [
    {
     "data": {
      "text/plain": [
       "target    0\n",
       "text      0\n",
       "dtype: int64"
      ]
     },
     "execution_count": 11,
     "metadata": {},
     "output_type": "execute_result"
    }
   ],
   "source": [
    "#checking missing values\n",
    "df.isnull().sum()"
   ]
  },
  {
   "cell_type": "code",
   "execution_count": 12,
   "id": "0589ad12",
   "metadata": {
    "execution": {
     "iopub.execute_input": "2024-02-13T04:16:13.513100Z",
     "iopub.status.busy": "2024-02-13T04:16:13.512788Z",
     "iopub.status.idle": "2024-02-13T04:16:13.524019Z",
     "shell.execute_reply": "2024-02-13T04:16:13.523145Z"
    },
    "papermill": {
     "duration": 0.03408,
     "end_time": "2024-02-13T04:16:13.525857",
     "exception": false,
     "start_time": "2024-02-13T04:16:13.491777",
     "status": "completed"
    },
    "tags": []
   },
   "outputs": [
    {
     "data": {
      "text/plain": [
       "403"
      ]
     },
     "execution_count": 12,
     "metadata": {},
     "output_type": "execute_result"
    }
   ],
   "source": [
    "#check duplicate values\n",
    "df.duplicated().sum()"
   ]
  },
  {
   "cell_type": "code",
   "execution_count": 13,
   "id": "df410801",
   "metadata": {
    "execution": {
     "iopub.execute_input": "2024-02-13T04:16:13.606766Z",
     "iopub.status.busy": "2024-02-13T04:16:13.606480Z",
     "iopub.status.idle": "2024-02-13T04:16:13.614512Z",
     "shell.execute_reply": "2024-02-13T04:16:13.613639Z"
    },
    "papermill": {
     "duration": 0.030742,
     "end_time": "2024-02-13T04:16:13.616467",
     "exception": false,
     "start_time": "2024-02-13T04:16:13.585725",
     "status": "completed"
    },
    "tags": []
   },
   "outputs": [],
   "source": [
    "#remove Duplicate\n",
    "df = df.drop_duplicates(keep = 'first')"
   ]
  },
  {
   "cell_type": "markdown",
   "id": "77c1410f",
   "metadata": {
    "papermill": {
     "duration": 0.019814,
     "end_time": "2024-02-13T04:16:13.656338",
     "exception": false,
     "start_time": "2024-02-13T04:16:13.636524",
     "status": "completed"
    },
    "tags": []
   },
   "source": [
    "# Shape of the Dataset"
   ]
  },
  {
   "cell_type": "code",
   "execution_count": 14,
   "id": "bf66218e",
   "metadata": {
    "execution": {
     "iopub.execute_input": "2024-02-13T04:16:13.697428Z",
     "iopub.status.busy": "2024-02-13T04:16:13.697183Z",
     "iopub.status.idle": "2024-02-13T04:16:13.702350Z",
     "shell.execute_reply": "2024-02-13T04:16:13.701493Z"
    },
    "papermill": {
     "duration": 0.028043,
     "end_time": "2024-02-13T04:16:13.704332",
     "exception": false,
     "start_time": "2024-02-13T04:16:13.676289",
     "status": "completed"
    },
    "tags": []
   },
   "outputs": [
    {
     "data": {
      "text/plain": [
       "(5169, 2)"
      ]
     },
     "execution_count": 14,
     "metadata": {},
     "output_type": "execute_result"
    }
   ],
   "source": [
    "df.shape"
   ]
  },
  {
   "cell_type": "markdown",
   "id": "3833b993",
   "metadata": {
    "papermill": {
     "duration": 0.020383,
     "end_time": "2024-02-13T04:16:13.786146",
     "exception": false,
     "start_time": "2024-02-13T04:16:13.765763",
     "status": "completed"
    },
    "tags": []
   },
   "source": [
    "# Exploratory Data Analyisis"
   ]
  },
  {
   "cell_type": "code",
   "execution_count": 18,
   "id": "14d16717",
   "metadata": {
    "execution": {
     "iopub.execute_input": "2024-02-13T04:16:13.868371Z",
     "iopub.status.busy": "2024-02-13T04:16:13.868106Z",
     "iopub.status.idle": "2024-02-13T04:16:13.874910Z",
     "shell.execute_reply": "2024-02-13T04:16:13.874054Z"
    },
    "papermill": {
     "duration": 0.029931,
     "end_time": "2024-02-13T04:16:13.876791",
     "exception": false,
     "start_time": "2024-02-13T04:16:13.846860",
     "status": "completed"
    },
    "tags": []
   },
   "outputs": [
    {
     "name": "stdout",
     "output_type": "stream",
     "text": [
      "percentage of 0 : 87.3669955503966\n",
      "percentage of 1 : 12.633004449603405\n"
     ]
    }
   ],
   "source": [
    "# we check the percentage of ham and spam emails \n",
    "values = df['target'].value_counts()\n",
    "\n",
    "total = values.sum()\n",
    "\n",
    "percentage_0 = (values[0] /total) * 100\n",
    "percentage_1 = (values[1]/ total) *100\n",
    "\n",
    "print('percentage of 0 :' ,percentage_0)\n",
    "print('percentage of 1 :' ,percentage_1)"
   ]
  },
  {
   "cell_type": "code",
   "execution_count": 19,
   "id": "d9056602",
   "metadata": {
    "execution": {
     "iopub.execute_input": "2024-02-13T04:16:14.254733Z",
     "iopub.status.busy": "2024-02-13T04:16:14.254021Z",
     "iopub.status.idle": "2024-02-13T04:16:16.081493Z",
     "shell.execute_reply": "2024-02-13T04:16:16.080691Z"
    },
    "papermill": {
     "duration": 1.852293,
     "end_time": "2024-02-13T04:16:16.083763",
     "exception": false,
     "start_time": "2024-02-13T04:16:14.231470",
     "status": "completed"
    },
    "tags": []
   },
   "outputs": [],
   "source": [
    "# here we check the number of characters and words and rest thins using nltk \n",
    "df['num_characters'] = df['text'].apply(len)\n",
    "df['num_words'] = df['text'].apply(lambda x: len(nltk.word_tokenize(x)))\n",
    "df['num_sentence'] = df['text'].apply(lambda x: len(nltk.sent_tokenize(x)))"
   ]
  },
  {
   "cell_type": "code",
   "execution_count": 20,
   "id": "8268812e",
   "metadata": {
    "execution": {
     "iopub.execute_input": "2024-02-13T04:16:16.130095Z",
     "iopub.status.busy": "2024-02-13T04:16:16.129387Z",
     "iopub.status.idle": "2024-02-13T04:16:16.152556Z",
     "shell.execute_reply": "2024-02-13T04:16:16.151669Z"
    },
    "papermill": {
     "duration": 0.04824,
     "end_time": "2024-02-13T04:16:16.154699",
     "exception": false,
     "start_time": "2024-02-13T04:16:16.106459",
     "status": "completed"
    },
    "tags": []
   },
   "outputs": [
    {
     "data": {
      "text/html": [
       "<div>\n",
       "<style scoped>\n",
       "    .dataframe tbody tr th:only-of-type {\n",
       "        vertical-align: middle;\n",
       "    }\n",
       "\n",
       "    .dataframe tbody tr th {\n",
       "        vertical-align: top;\n",
       "    }\n",
       "\n",
       "    .dataframe thead th {\n",
       "        text-align: right;\n",
       "    }\n",
       "</style>\n",
       "<table border=\"1\" class=\"dataframe\">\n",
       "  <thead>\n",
       "    <tr style=\"text-align: right;\">\n",
       "      <th></th>\n",
       "      <th>num_characters</th>\n",
       "      <th>num_words</th>\n",
       "      <th>num_sentence</th>\n",
       "    </tr>\n",
       "  </thead>\n",
       "  <tbody>\n",
       "    <tr>\n",
       "      <th>count</th>\n",
       "      <td>5169.000000</td>\n",
       "      <td>5169.000000</td>\n",
       "      <td>5169.000000</td>\n",
       "    </tr>\n",
       "    <tr>\n",
       "      <th>mean</th>\n",
       "      <td>78.977945</td>\n",
       "      <td>18.455794</td>\n",
       "      <td>1.965564</td>\n",
       "    </tr>\n",
       "    <tr>\n",
       "      <th>std</th>\n",
       "      <td>58.236293</td>\n",
       "      <td>13.324758</td>\n",
       "      <td>1.448541</td>\n",
       "    </tr>\n",
       "    <tr>\n",
       "      <th>min</th>\n",
       "      <td>2.000000</td>\n",
       "      <td>1.000000</td>\n",
       "      <td>1.000000</td>\n",
       "    </tr>\n",
       "    <tr>\n",
       "      <th>25%</th>\n",
       "      <td>36.000000</td>\n",
       "      <td>9.000000</td>\n",
       "      <td>1.000000</td>\n",
       "    </tr>\n",
       "    <tr>\n",
       "      <th>50%</th>\n",
       "      <td>60.000000</td>\n",
       "      <td>15.000000</td>\n",
       "      <td>1.000000</td>\n",
       "    </tr>\n",
       "    <tr>\n",
       "      <th>75%</th>\n",
       "      <td>117.000000</td>\n",
       "      <td>26.000000</td>\n",
       "      <td>2.000000</td>\n",
       "    </tr>\n",
       "    <tr>\n",
       "      <th>max</th>\n",
       "      <td>910.000000</td>\n",
       "      <td>220.000000</td>\n",
       "      <td>38.000000</td>\n",
       "    </tr>\n",
       "  </tbody>\n",
       "</table>\n",
       "</div>"
      ],
      "text/plain": [
       "       num_characters    num_words  num_sentence\n",
       "count     5169.000000  5169.000000   5169.000000\n",
       "mean        78.977945    18.455794      1.965564\n",
       "std         58.236293    13.324758      1.448541\n",
       "min          2.000000     1.000000      1.000000\n",
       "25%         36.000000     9.000000      1.000000\n",
       "50%         60.000000    15.000000      1.000000\n",
       "75%        117.000000    26.000000      2.000000\n",
       "max        910.000000   220.000000     38.000000"
      ]
     },
     "execution_count": 20,
     "metadata": {},
     "output_type": "execute_result"
    }
   ],
   "source": [
    "df[['num_characters', 'num_words', 'num_sentence']].describe()"
   ]
  },
  {
   "cell_type": "markdown",
   "id": "fca80a05",
   "metadata": {
    "papermill": {
     "duration": 0.021626,
     "end_time": "2024-02-13T04:16:16.198352",
     "exception": false,
     "start_time": "2024-02-13T04:16:16.176726",
     "status": "completed"
    },
    "tags": []
   },
   "source": [
    "<!-- > <span style='font-size:15px; font-family:Verdana;color: #FF00CC;'><b>5.3 | Summary Statistics for Legitimate Messages</b></span> -->"
   ]
  },
  {
   "cell_type": "code",
   "execution_count": 21,
   "id": "5da24cfc",
   "metadata": {
    "execution": {
     "iopub.execute_input": "2024-02-13T04:16:16.244339Z",
     "iopub.status.busy": "2024-02-13T04:16:16.244020Z",
     "iopub.status.idle": "2024-02-13T04:16:16.263983Z",
     "shell.execute_reply": "2024-02-13T04:16:16.262835Z"
    },
    "papermill": {
     "duration": 0.045938,
     "end_time": "2024-02-13T04:16:16.265925",
     "exception": false,
     "start_time": "2024-02-13T04:16:16.219987",
     "status": "completed"
    },
    "tags": []
   },
   "outputs": [
    {
     "data": {
      "text/html": [
       "<div>\n",
       "<style scoped>\n",
       "    .dataframe tbody tr th:only-of-type {\n",
       "        vertical-align: middle;\n",
       "    }\n",
       "\n",
       "    .dataframe tbody tr th {\n",
       "        vertical-align: top;\n",
       "    }\n",
       "\n",
       "    .dataframe thead th {\n",
       "        text-align: right;\n",
       "    }\n",
       "</style>\n",
       "<table border=\"1\" class=\"dataframe\">\n",
       "  <thead>\n",
       "    <tr style=\"text-align: right;\">\n",
       "      <th></th>\n",
       "      <th>num_characters</th>\n",
       "      <th>num_words</th>\n",
       "      <th>num_sentence</th>\n",
       "    </tr>\n",
       "  </thead>\n",
       "  <tbody>\n",
       "    <tr>\n",
       "      <th>count</th>\n",
       "      <td>4516.000000</td>\n",
       "      <td>4516.000000</td>\n",
       "      <td>4516.000000</td>\n",
       "    </tr>\n",
       "    <tr>\n",
       "      <th>mean</th>\n",
       "      <td>70.459256</td>\n",
       "      <td>17.123782</td>\n",
       "      <td>1.820195</td>\n",
       "    </tr>\n",
       "    <tr>\n",
       "      <th>std</th>\n",
       "      <td>56.358207</td>\n",
       "      <td>13.493970</td>\n",
       "      <td>1.383657</td>\n",
       "    </tr>\n",
       "    <tr>\n",
       "      <th>min</th>\n",
       "      <td>2.000000</td>\n",
       "      <td>1.000000</td>\n",
       "      <td>1.000000</td>\n",
       "    </tr>\n",
       "    <tr>\n",
       "      <th>25%</th>\n",
       "      <td>34.000000</td>\n",
       "      <td>8.000000</td>\n",
       "      <td>1.000000</td>\n",
       "    </tr>\n",
       "    <tr>\n",
       "      <th>50%</th>\n",
       "      <td>52.000000</td>\n",
       "      <td>13.000000</td>\n",
       "      <td>1.000000</td>\n",
       "    </tr>\n",
       "    <tr>\n",
       "      <th>75%</th>\n",
       "      <td>90.000000</td>\n",
       "      <td>22.000000</td>\n",
       "      <td>2.000000</td>\n",
       "    </tr>\n",
       "    <tr>\n",
       "      <th>max</th>\n",
       "      <td>910.000000</td>\n",
       "      <td>220.000000</td>\n",
       "      <td>38.000000</td>\n",
       "    </tr>\n",
       "  </tbody>\n",
       "</table>\n",
       "</div>"
      ],
      "text/plain": [
       "       num_characters    num_words  num_sentence\n",
       "count     4516.000000  4516.000000   4516.000000\n",
       "mean        70.459256    17.123782      1.820195\n",
       "std         56.358207    13.493970      1.383657\n",
       "min          2.000000     1.000000      1.000000\n",
       "25%         34.000000     8.000000      1.000000\n",
       "50%         52.000000    13.000000      1.000000\n",
       "75%         90.000000    22.000000      2.000000\n",
       "max        910.000000   220.000000     38.000000"
      ]
     },
     "execution_count": 21,
     "metadata": {},
     "output_type": "execute_result"
    }
   ],
   "source": [
    "#we are checking the description of the ham \n",
    "df[df['target'] == 0][['num_characters', 'num_words', 'num_sentence']].describe()"
   ]
  },
  {
   "cell_type": "markdown",
   "id": "d2c7e307",
   "metadata": {
    "papermill": {
     "duration": 0.022117,
     "end_time": "2024-02-13T04:16:16.310367",
     "exception": false,
     "start_time": "2024-02-13T04:16:16.288250",
     "status": "completed"
    },
    "tags": []
   },
   "source": [
    "# Summary Statistics for Spam Messages"
   ]
  },
  {
   "cell_type": "code",
   "execution_count": 22,
   "id": "a1d9b616",
   "metadata": {
    "execution": {
     "iopub.execute_input": "2024-02-13T04:16:16.356100Z",
     "iopub.status.busy": "2024-02-13T04:16:16.355772Z",
     "iopub.status.idle": "2024-02-13T04:16:16.374453Z",
     "shell.execute_reply": "2024-02-13T04:16:16.373557Z"
    },
    "papermill": {
     "duration": 0.043425,
     "end_time": "2024-02-13T04:16:16.376279",
     "exception": false,
     "start_time": "2024-02-13T04:16:16.332854",
     "status": "completed"
    },
    "tags": []
   },
   "outputs": [
    {
     "data": {
      "text/html": [
       "<div>\n",
       "<style scoped>\n",
       "    .dataframe tbody tr th:only-of-type {\n",
       "        vertical-align: middle;\n",
       "    }\n",
       "\n",
       "    .dataframe tbody tr th {\n",
       "        vertical-align: top;\n",
       "    }\n",
       "\n",
       "    .dataframe thead th {\n",
       "        text-align: right;\n",
       "    }\n",
       "</style>\n",
       "<table border=\"1\" class=\"dataframe\">\n",
       "  <thead>\n",
       "    <tr style=\"text-align: right;\">\n",
       "      <th></th>\n",
       "      <th>num_characters</th>\n",
       "      <th>num_words</th>\n",
       "      <th>num_sentence</th>\n",
       "    </tr>\n",
       "  </thead>\n",
       "  <tbody>\n",
       "    <tr>\n",
       "      <th>count</th>\n",
       "      <td>653.000000</td>\n",
       "      <td>653.000000</td>\n",
       "      <td>653.000000</td>\n",
       "    </tr>\n",
       "    <tr>\n",
       "      <th>mean</th>\n",
       "      <td>137.891271</td>\n",
       "      <td>27.667688</td>\n",
       "      <td>2.970904</td>\n",
       "    </tr>\n",
       "    <tr>\n",
       "      <th>std</th>\n",
       "      <td>30.137753</td>\n",
       "      <td>7.008418</td>\n",
       "      <td>1.488425</td>\n",
       "    </tr>\n",
       "    <tr>\n",
       "      <th>min</th>\n",
       "      <td>13.000000</td>\n",
       "      <td>2.000000</td>\n",
       "      <td>1.000000</td>\n",
       "    </tr>\n",
       "    <tr>\n",
       "      <th>25%</th>\n",
       "      <td>132.000000</td>\n",
       "      <td>25.000000</td>\n",
       "      <td>2.000000</td>\n",
       "    </tr>\n",
       "    <tr>\n",
       "      <th>50%</th>\n",
       "      <td>149.000000</td>\n",
       "      <td>29.000000</td>\n",
       "      <td>3.000000</td>\n",
       "    </tr>\n",
       "    <tr>\n",
       "      <th>75%</th>\n",
       "      <td>157.000000</td>\n",
       "      <td>32.000000</td>\n",
       "      <td>4.000000</td>\n",
       "    </tr>\n",
       "    <tr>\n",
       "      <th>max</th>\n",
       "      <td>224.000000</td>\n",
       "      <td>46.000000</td>\n",
       "      <td>9.000000</td>\n",
       "    </tr>\n",
       "  </tbody>\n",
       "</table>\n",
       "</div>"
      ],
      "text/plain": [
       "       num_characters   num_words  num_sentence\n",
       "count      653.000000  653.000000    653.000000\n",
       "mean       137.891271   27.667688      2.970904\n",
       "std         30.137753    7.008418      1.488425\n",
       "min         13.000000    2.000000      1.000000\n",
       "25%        132.000000   25.000000      2.000000\n",
       "50%        149.000000   29.000000      3.000000\n",
       "75%        157.000000   32.000000      4.000000\n",
       "max        224.000000   46.000000      9.000000"
      ]
     },
     "execution_count": 22,
     "metadata": {},
     "output_type": "execute_result"
    }
   ],
   "source": [
    "#spam\n",
    "df[df['target'] == 1][['num_characters', 'num_words', 'num_sentence']].describe()"
   ]
  },
  {
   "cell_type": "markdown",
   "id": "1c009178",
   "metadata": {
    "papermill": {
     "duration": 0.026354,
     "end_time": "2024-02-13T04:16:23.287656",
     "exception": false,
     "start_time": "2024-02-13T04:16:23.261302",
     "status": "completed"
    },
    "tags": []
   },
   "source": [
    "# Coorelation\n",
    "   "
   ]
  },
  {
   "cell_type": "code",
   "execution_count": 23,
   "id": "497015e3",
   "metadata": {
    "execution": {
     "iopub.execute_input": "2024-02-13T04:16:23.341151Z",
     "iopub.status.busy": "2024-02-13T04:16:23.340809Z",
     "iopub.status.idle": "2024-02-13T04:16:23.354786Z",
     "shell.execute_reply": "2024-02-13T04:16:23.353938Z"
    },
    "papermill": {
     "duration": 0.042751,
     "end_time": "2024-02-13T04:16:23.356730",
     "exception": false,
     "start_time": "2024-02-13T04:16:23.313979",
     "status": "completed"
    },
    "scrolled": true,
    "tags": []
   },
   "outputs": [
    {
     "data": {
      "text/html": [
       "<div>\n",
       "<style scoped>\n",
       "    .dataframe tbody tr th:only-of-type {\n",
       "        vertical-align: middle;\n",
       "    }\n",
       "\n",
       "    .dataframe tbody tr th {\n",
       "        vertical-align: top;\n",
       "    }\n",
       "\n",
       "    .dataframe thead th {\n",
       "        text-align: right;\n",
       "    }\n",
       "</style>\n",
       "<table border=\"1\" class=\"dataframe\">\n",
       "  <thead>\n",
       "    <tr style=\"text-align: right;\">\n",
       "      <th></th>\n",
       "      <th>target</th>\n",
       "      <th>num_characters</th>\n",
       "      <th>num_words</th>\n",
       "      <th>num_sentence</th>\n",
       "    </tr>\n",
       "  </thead>\n",
       "  <tbody>\n",
       "    <tr>\n",
       "      <th>target</th>\n",
       "      <td>1.000000</td>\n",
       "      <td>0.384717</td>\n",
       "      <td>0.262912</td>\n",
       "      <td>0.263939</td>\n",
       "    </tr>\n",
       "    <tr>\n",
       "      <th>num_characters</th>\n",
       "      <td>0.384717</td>\n",
       "      <td>1.000000</td>\n",
       "      <td>0.965760</td>\n",
       "      <td>0.624139</td>\n",
       "    </tr>\n",
       "    <tr>\n",
       "      <th>num_words</th>\n",
       "      <td>0.262912</td>\n",
       "      <td>0.965760</td>\n",
       "      <td>1.000000</td>\n",
       "      <td>0.679971</td>\n",
       "    </tr>\n",
       "    <tr>\n",
       "      <th>num_sentence</th>\n",
       "      <td>0.263939</td>\n",
       "      <td>0.624139</td>\n",
       "      <td>0.679971</td>\n",
       "      <td>1.000000</td>\n",
       "    </tr>\n",
       "  </tbody>\n",
       "</table>\n",
       "</div>"
      ],
      "text/plain": [
       "                  target  num_characters  num_words  num_sentence\n",
       "target          1.000000        0.384717   0.262912      0.263939\n",
       "num_characters  0.384717        1.000000   0.965760      0.624139\n",
       "num_words       0.262912        0.965760   1.000000      0.679971\n",
       "num_sentence    0.263939        0.624139   0.679971      1.000000"
      ]
     },
     "execution_count": 23,
     "metadata": {},
     "output_type": "execute_result"
    }
   ],
   "source": [
    "df[['target','num_characters', 'num_words', 'num_sentence']].corr()"
   ]
  },
  {
   "cell_type": "code",
   "execution_count": 24,
   "id": "e8adbe04",
   "metadata": {
    "execution": {
     "iopub.execute_input": "2024-02-13T04:16:23.410555Z",
     "iopub.status.busy": "2024-02-13T04:16:23.410283Z",
     "iopub.status.idle": "2024-02-13T04:16:23.815213Z",
     "shell.execute_reply": "2024-02-13T04:16:23.814284Z"
    },
    "papermill": {
     "duration": 0.433674,
     "end_time": "2024-02-13T04:16:23.817258",
     "exception": false,
     "start_time": "2024-02-13T04:16:23.383584",
     "status": "completed"
    },
    "tags": []
   },
   "outputs": [
    {
     "data": {
      "image/png": "[encoded data removed]",
      "text/plain": [
       "<Figure size 1000x600 with 2 Axes>"
      ]
     },
     "metadata": {},
     "output_type": "display_data"
    }
   ],
   "source": [
    "import seaborn as sns\n",
    "import matplotlib.pyplot as plt\n",
    "\n",
    "# Select the columns for the correlation matrix\n",
    "correlation_matrix = df[['target', 'num_characters', 'num_words', 'num_sentence']].corr()\n",
    "\n",
    "# Create a heatmap with custom styling\n",
    "plt.figure(figsize=(10, 6))\n",
    "sns.set(font_scale=1.2)  # Adjust font scale for better readability\n",
    "sns.heatmap(correlation_matrix, annot=True, cmap='coolwarm', linewidths=0.5, fmt=\".2f\")\n",
    "\n",
    "# Set a title for the heatmap\n",
    "plt.title(\"Correlation Heatmap\", fontsize=16, fontweight='bold')\n",
    "\n",
    "# Rotate x-axis labels for better readability\n",
    "plt.xticks(rotation=45)\n",
    "\n",
    "# Show the heatmap\n",
    "plt.show()\n"
   ]
  },
  {
   "cell_type": "markdown",
   "id": "d4f60c69",
   "metadata": {
    "papermill": {
     "duration": 0.027673,
     "end_time": "2024-02-13T04:16:23.928137",
     "exception": false,
     "start_time": "2024-02-13T04:16:23.900464",
     "status": "completed"
    },
    "tags": []
   },
   "source": [
    "# Data Preprocessing\n"
   ]
  },
  {
   "cell_type": "code",
   "execution_count": 25,
   "id": "3c576120",
   "metadata": {
    "execution": {
     "iopub.execute_input": "2024-02-13T04:16:23.985039Z",
     "iopub.status.busy": "2024-02-13T04:16:23.984694Z",
     "iopub.status.idle": "2024-02-13T04:16:23.992394Z",
     "shell.execute_reply": "2024-02-13T04:16:23.991468Z"
    },
    "papermill": {
     "duration": 0.03832,
     "end_time": "2024-02-13T04:16:23.994179",
     "exception": false,
     "start_time": "2024-02-13T04:16:23.955859",
     "status": "completed"
    },
    "tags": []
   },
   "outputs": [],
   "source": [
    "# Importing the Porter Stemmer for text stemming\n",
    "from nltk.stem.porter import PorterStemmer\n",
    "\n",
    "# Importing the string module for handling special characters\n",
    "import string\n",
    "\n",
    "# Creating an instance of the Porter Stemmer\n",
    "ps = PorterStemmer()\n",
    "\n",
    "# Lowercase transformation and text preprocessing function\n",
    "def transform_text(text):\n",
    "    # Transform the text to lowercase\n",
    "    text = text.lower()\n",
    "    \n",
    "    # Tokenization using NLTK\n",
    "    text = nltk.word_tokenize(text)\n",
    "    \n",
    "#     # Removing special characters\n",
    "    y = []\n",
    "    for i in text:\n",
    "        if i.isalnum():\n",
    "            y.append(i)\n",
    "            \n",
    "#     # Removing stop words and punctuation\n",
    "    text = y[:]\n",
    "    y.clear()\n",
    "    \n",
    "#     # Loop through the tokens and remove stopwords and punctuation\n",
    "    for i in text:\n",
    "        if i not in stopwords.words('english') and i not in string.punctuation:\n",
    "            y.append(i)\n",
    "        \n",
    "    # Stemming using Porter Stemmer\n",
    "    text = y[:]\n",
    "    y.clear()\n",
    "    for i in text:\n",
    "        y.append(ps.stem(i))\n",
    "    \n",
    "    # Join the processed tokens back into a single string\n",
    "    return \" \".join(y)\n"
   ]
  },
  {
   "cell_type": "code",
   "execution_count": 26,
   "id": "93aef970",
   "metadata": {
    "execution": {
     "iopub.execute_input": "2024-02-13T04:16:24.051130Z",
     "iopub.status.busy": "2024-02-13T04:16:24.050807Z",
     "iopub.status.idle": "2024-02-13T04:16:24.061478Z",
     "shell.execute_reply": "2024-02-13T04:16:24.060733Z"
    },
    "papermill": {
     "duration": 0.041579,
     "end_time": "2024-02-13T04:16:24.063360",
     "exception": false,
     "start_time": "2024-02-13T04:16:24.021781",
     "status": "completed"
    },
    "tags": []
   },
   "outputs": [
    {
     "data": {
      "text/plain": [
       "'go jurong point crazi avail bugi n great world la e buffet cine got amor wat'"
      ]
     },
     "execution_count": 26,
     "metadata": {},
     "output_type": "execute_result"
    }
   ],
   "source": [
    "transform_text('Go until jurong point, crazy.. Available only in bugis n great world la e buffet... Cine there got amore wat...')"
   ]
  },
  {
   "cell_type": "markdown",
   "id": "db623ff5",
   "metadata": {
    "papermill": {
     "duration": 0.028881,
     "end_time": "2024-02-13T04:16:24.120166",
     "exception": false,
     "start_time": "2024-02-13T04:16:24.091285",
     "status": "completed"
    },
    "tags": []
   },
   "source": [
    "# Creating a New Column: 'transformed_text'"
   ]
  },
  {
   "cell_type": "code",
   "execution_count": 27,
   "id": "1faa4aee",
   "metadata": {
    "execution": {
     "iopub.execute_input": "2024-02-13T04:16:24.178623Z",
     "iopub.status.busy": "2024-02-13T04:16:24.177941Z",
     "iopub.status.idle": "2024-02-13T04:16:36.148953Z",
     "shell.execute_reply": "2024-02-13T04:16:36.147915Z"
    },
    "papermill": {
     "duration": 12.002166,
     "end_time": "2024-02-13T04:16:36.151279",
     "exception": false,
     "start_time": "2024-02-13T04:16:24.149113",
     "status": "completed"
    },
    "tags": []
   },
   "outputs": [],
   "source": [
    "df['transformed_text'] = df['text'].apply(transform_text)"
   ]
  },
  {
   "cell_type": "code",
   "execution_count": 30,
   "id": "f31f09f2",
   "metadata": {},
   "outputs": [
    {
     "data": {
      "text/html": [
       "<div>\n",
       "<style scoped>\n",
       "    .dataframe tbody tr th:only-of-type {\n",
       "        vertical-align: middle;\n",
       "    }\n",
       "\n",
       "    .dataframe tbody tr th {\n",
       "        vertical-align: top;\n",
       "    }\n",
       "\n",
       "    .dataframe thead th {\n",
       "        text-align: right;\n",
       "    }\n",
       "</style>\n",
       "<table border=\"1\" class=\"dataframe\">\n",
       "  <thead>\n",
       "    <tr style=\"text-align: right;\">\n",
       "      <th></th>\n",
       "      <th>target</th>\n",
       "      <th>text</th>\n",
       "      <th>num_characters</th>\n",
       "      <th>num_words</th>\n",
       "      <th>num_sentence</th>\n",
       "      <th>transformed_text</th>\n",
       "    </tr>\n",
       "  </thead>\n",
       "  <tbody>\n",
       "    <tr>\n",
       "      <th>0</th>\n",
       "      <td>0</td>\n",
       "      <td>Go until jurong point, crazy.. Available only ...</td>\n",
       "      <td>111</td>\n",
       "      <td>24</td>\n",
       "      <td>2</td>\n",
       "      <td>go jurong point crazi avail bugi n great world...</td>\n",
       "    </tr>\n",
       "    <tr>\n",
       "      <th>1</th>\n",
       "      <td>0</td>\n",
       "      <td>Ok lar... Joking wif u oni...</td>\n",
       "      <td>29</td>\n",
       "      <td>8</td>\n",
       "      <td>2</td>\n",
       "      <td>ok lar joke wif u oni</td>\n",
       "    </tr>\n",
       "    <tr>\n",
       "      <th>2</th>\n",
       "      <td>1</td>\n",
       "      <td>Free entry in 2 a wkly comp to win FA Cup fina...</td>\n",
       "      <td>155</td>\n",
       "      <td>37</td>\n",
       "      <td>2</td>\n",
       "      <td>free entri 2 wkli comp win fa cup final tkt 21...</td>\n",
       "    </tr>\n",
       "    <tr>\n",
       "      <th>3</th>\n",
       "      <td>0</td>\n",
       "      <td>U dun say so early hor... U c already then say...</td>\n",
       "      <td>49</td>\n",
       "      <td>13</td>\n",
       "      <td>1</td>\n",
       "      <td>u dun say earli hor u c alreadi say</td>\n",
       "    </tr>\n",
       "    <tr>\n",
       "      <th>4</th>\n",
       "      <td>0</td>\n",
       "      <td>Nah I don't think he goes to usf, he lives aro...</td>\n",
       "      <td>61</td>\n",
       "      <td>15</td>\n",
       "      <td>1</td>\n",
       "      <td>nah think goe usf live around though</td>\n",
       "    </tr>\n",
       "  </tbody>\n",
       "</table>\n",
       "</div>"
      ],
      "text/plain": [
       "   target                                               text  num_characters  \\\n",
       "0       0  Go until jurong point, crazy.. Available only ...             111   \n",
       "1       0                      Ok lar... Joking wif u oni...              29   \n",
       "2       1  Free entry in 2 a wkly comp to win FA Cup fina...             155   \n",
       "3       0  U dun say so early hor... U c already then say...              49   \n",
       "4       0  Nah I don't think he goes to usf, he lives aro...              61   \n",
       "\n",
       "   num_words  num_sentence                                   transformed_text  \n",
       "0         24             2  go jurong point crazi avail bugi n great world...  \n",
       "1          8             2                              ok lar joke wif u oni  \n",
       "2         37             2  free entri 2 wkli comp win fa cup final tkt 21...  \n",
       "3         13             1                u dun say earli hor u c alreadi say  \n",
       "4         15             1               nah think goe usf live around though  "
      ]
     },
     "execution_count": 30,
     "metadata": {},
     "output_type": "execute_result"
    }
   ],
   "source": [
    "df.head()"
   ]
  },
  {
   "cell_type": "markdown",
   "id": "d554b535",
   "metadata": {
    "papermill": {
     "duration": 0.036421,
     "end_time": "2024-02-13T04:16:38.376970",
     "exception": false,
     "start_time": "2024-02-13T04:16:38.340549",
     "status": "completed"
    },
    "tags": []
   },
   "source": [
    "#  Top 30 words of spam"
   ]
  },
  {
   "cell_type": "code",
   "execution_count": 31,
   "id": "84c47ff3",
   "metadata": {
    "execution": {
     "iopub.execute_input": "2024-02-13T04:16:38.451353Z",
     "iopub.status.busy": "2024-02-13T04:16:38.450642Z",
     "iopub.status.idle": "2024-02-13T04:16:38.458988Z",
     "shell.execute_reply": "2024-02-13T04:16:38.458223Z"
    },
    "papermill": {
     "duration": 0.047255,
     "end_time": "2024-02-13T04:16:38.460813",
     "exception": false,
     "start_time": "2024-02-13T04:16:38.413558",
     "status": "completed"
    },
    "tags": []
   },
   "outputs": [],
   "source": [
    "spam_carpos = []\n",
    "for sentence in df[df['target'] == 1]['transformed_text'].tolist():\n",
    "    for word in sentence.split():\n",
    "        spam_carpos.append(word)"
   ]
  },
  {
   "cell_type": "code",
   "execution_count": 32,
   "id": "81046021",
   "metadata": {
    "execution": {
     "iopub.execute_input": "2024-02-13T04:16:38.535448Z",
     "iopub.status.busy": "2024-02-13T04:16:38.535157Z",
     "iopub.status.idle": "2024-02-13T04:16:38.541399Z",
     "shell.execute_reply": "2024-02-13T04:16:38.540517Z"
    },
    "papermill": {
     "duration": 0.045331,
     "end_time": "2024-02-13T04:16:38.543224",
     "exception": false,
     "start_time": "2024-02-13T04:16:38.497893",
     "status": "completed"
    },
    "tags": []
   },
   "outputs": [],
   "source": [
    "from collections import Counter\n",
    "filter_df = pd.DataFrame(Counter(spam_carpos).most_common(30))\n",
    "# here we count the most common 30 spam words which would give us the knowledge of which words are commonly used in the spam emails \n",
    "# we can also create a word cloud by this"
   ]
  },
  {
   "cell_type": "code",
   "execution_count": 33,
   "id": "b8a8626f",
   "metadata": {
    "execution": {
     "iopub.execute_input": "2024-02-13T04:16:38.618434Z",
     "iopub.status.busy": "2024-02-13T04:16:38.618141Z",
     "iopub.status.idle": "2024-02-13T04:16:39.217161Z",
     "shell.execute_reply": "2024-02-13T04:16:39.216251Z"
    },
    "papermill": {
     "duration": 0.638721,
     "end_time": "2024-02-13T04:16:39.219117",
     "exception": false,
     "start_time": "2024-02-13T04:16:38.580396",
     "status": "completed"
    },
    "tags": []
   },
   "outputs": [
    {
     "data": {
      "image/png": "[encoded data removed]",
      "text/plain": [
       "<Figure size 640x480 with 1 Axes>"
      ]
     },
     "metadata": {},
     "output_type": "display_data"
    }
   ],
   "source": [
    "sns.barplot(data = filter_df, x = filter_df[0], y = filter_df[1], palette = 'bright')\n",
    "plt.xticks(rotation = 90)\n",
    "plt.show()"
   ]
  },
  {
   "cell_type": "markdown",
   "id": "b2481853",
   "metadata": {
    "papermill": {
     "duration": 0.037787,
     "end_time": "2024-02-13T04:16:39.296058",
     "exception": false,
     "start_time": "2024-02-13T04:16:39.258271",
     "status": "completed"
    },
    "tags": []
   },
   "source": [
    "# Top 30 words of Not spam Messages"
   ]
  },
  {
   "cell_type": "code",
   "execution_count": 34,
   "id": "b2ae8d11",
   "metadata": {
    "execution": {
     "iopub.execute_input": "2024-02-13T04:16:39.375743Z",
     "iopub.status.busy": "2024-02-13T04:16:39.374837Z",
     "iopub.status.idle": "2024-02-13T04:16:39.389231Z",
     "shell.execute_reply": "2024-02-13T04:16:39.388314Z"
    },
    "papermill": {
     "duration": 0.056041,
     "end_time": "2024-02-13T04:16:39.391315",
     "exception": false,
     "start_time": "2024-02-13T04:16:39.335274",
     "status": "completed"
    },
    "tags": []
   },
   "outputs": [],
   "source": [
    "ham_carpos = []\n",
    "for sentence in df[df['target'] == 0]['transformed_text'].tolist():\n",
    "    for word in sentence.split():\n",
    "        ham_carpos.append(word)"
   ]
  },
  {
   "cell_type": "code",
   "execution_count": 35,
   "id": "97e4d7e3",
   "metadata": {
    "execution": {
     "iopub.execute_input": "2024-02-13T04:16:39.470989Z",
     "iopub.status.busy": "2024-02-13T04:16:39.470378Z",
     "iopub.status.idle": "2024-02-13T04:16:39.476685Z",
     "shell.execute_reply": "2024-02-13T04:16:39.475785Z"
    },
    "papermill": {
     "duration": 0.047708,
     "end_time": "2024-02-13T04:16:39.478732",
     "exception": false,
     "start_time": "2024-02-13T04:16:39.431024",
     "status": "completed"
    },
    "tags": []
   },
   "outputs": [],
   "source": [
    "filter_ham_df = pd.DataFrame(Counter(spam_carpos).most_common(30))"
   ]
  },
  {
   "cell_type": "code",
   "execution_count": 36,
   "id": "0c45ce25",
   "metadata": {
    "execution": {
     "iopub.execute_input": "2024-02-13T04:16:39.556925Z",
     "iopub.status.busy": "2024-02-13T04:16:39.556329Z",
     "iopub.status.idle": "2024-02-13T04:16:40.192930Z",
     "shell.execute_reply": "2024-02-13T04:16:40.191962Z"
    },
    "papermill": {
     "duration": 0.677467,
     "end_time": "2024-02-13T04:16:40.194988",
     "exception": false,
     "start_time": "2024-02-13T04:16:39.517521",
     "status": "completed"
    },
    "tags": []
   },
   "outputs": [
    {
     "data": {
      "image/png": "[encoded data removed]",
      "text/plain": [
       "<Figure size 640x480 with 1 Axes>"
      ]
     },
     "metadata": {},
     "output_type": "display_data"
    }
   ],
   "source": [
    "sns.barplot(data = filter_ham_df, x = filter_ham_df[0], y = filter_ham_df[1], palette = 'cool')\n",
    "plt.xticks(rotation = 90)\n",
    "plt.show()"
   ]
  },
  {
   "cell_type": "markdown",
   "id": "bf8792b6",
   "metadata": {
    "papermill": {
     "duration": 0.039437,
     "end_time": "2024-02-13T04:16:40.353929",
     "exception": false,
     "start_time": "2024-02-13T04:16:40.314492",
     "status": "completed"
    },
    "tags": []
   },
   "source": [
    "# Model Building using Naive Bayes\n"
   ]
  },
  {
   "cell_type": "code",
   "execution_count": 48,
   "id": "a900c8c1",
   "metadata": {
    "execution": {
     "iopub.execute_input": "2024-02-13T04:16:40.514915Z",
     "iopub.status.busy": "2024-02-13T04:16:40.514508Z",
     "iopub.status.idle": "2024-02-13T04:16:40.519270Z",
     "shell.execute_reply": "2024-02-13T04:16:40.518399Z"
    },
    "papermill": {
     "duration": 0.047991,
     "end_time": "2024-02-13T04:16:40.521165",
     "exception": false,
     "start_time": "2024-02-13T04:16:40.473174",
     "status": "completed"
    },
    "tags": []
   },
   "outputs": [],
   "source": [
    "#importing necessary libraries\n",
    "from sklearn.feature_extraction.text import CountVectorizer\n",
    "from sklearn.naive_bayes import MultinomialNB\n",
    "from sklearn.model_selection import train_test_split\n",
    "\n",
    "\n",
    "# Fit the CountVectorizer to the text data and transform it into a matrix of token counts\n",
    "vectorizer = CountVectorizer()\n",
    "counts = vectorizer.fit_transform(df['transformed_text'].values) # independent variable\n",
    "\n",
    "classifier = MultinomialNB()\n",
    "targets = df['target'].values #dependent variable\n",
    "X_train, X_test , Y_train, Y_test = train_test_split(counts, targets,  test_size = 0.25, random_state = 42 )\n",
    "\n",
    "classifier.fit(X_train, Y_train)\n",
    "y_pred = classifier.predict(X_test)\n",
    "\n",
    "\n"
   ]
  },
  {
   "cell_type": "markdown",
   "id": "b60c17fa",
   "metadata": {},
   "source": [
    "# Checking Accuracy"
   ]
  },
  {
   "cell_type": "code",
   "execution_count": 49,
   "id": "673750dd",
   "metadata": {
    "execution": {
     "iopub.execute_input": "2024-02-13T04:16:42.416910Z",
     "iopub.status.busy": "2024-02-13T04:16:42.416549Z",
     "iopub.status.idle": "2024-02-13T04:18:27.767961Z",
     "shell.execute_reply": "2024-02-13T04:18:27.766975Z"
    },
    "papermill": {
     "duration": 105.428812,
     "end_time": "2024-02-13T04:18:27.805524",
     "exception": false,
     "start_time": "2024-02-13T04:16:42.376712",
     "status": "completed"
    },
    "tags": []
   },
   "outputs": [
    {
     "name": "stdout",
     "output_type": "stream",
     "text": [
      "0.9729311678267595\n"
     ]
    }
   ],
   "source": [
    "from sklearn.metrics import accuracy_score\n",
    "print(accuracy_score(Y_test, y_pred))"
   ]
  },
  {
   "cell_type": "markdown",
   "id": "0df022c7",
   "metadata": {},
   "source": [
    "let us try it out now "
   ]
  },
  {
   "cell_type": "code",
   "execution_count": 54,
   "id": "5adade0c",
   "metadata": {},
   "outputs": [
    {
     "data": {
      "text/plain": [
       "array(['spam', 'ham'], dtype=object)"
      ]
     },
     "execution_count": 54,
     "metadata": {},
     "output_type": "execute_result"
    }
   ],
   "source": [
    "examples = ['Free Viagra now!!!', \"Hi Bob, how about a game of golf tomorrow?\"]\n",
    "example_counts = vectorizer.transform(examples)\n",
    "predictions = classifier.predict(example_counts)\n",
    "y_pred_labels = encoder.inverse_transform(predictions)\n",
    "y_pred_labels"
   ]
  },
  {
   "cell_type": "markdown",
   "id": "dcd65162",
   "metadata": {},
   "source": [
    "# Saving the Model"
   ]
  },
  {
   "cell_type": "code",
   "execution_count": 56,
   "id": "7d6f6d0a",
   "metadata": {},
   "outputs": [
    {
     "data": {
      "text/plain": [
       "['spam_classifier.pkl']"
      ]
     },
     "execution_count": 56,
     "metadata": {},
     "output_type": "execute_result"
    }
   ],
   "source": [
    "import joblib\n",
    "\n",
    "# Save the vectorizer\n",
    "joblib.dump(vectorizer, 'vectorizer.pkl')\n",
    "\n",
    "# Save the model\n",
    "joblib.dump(classifier, 'spam_classifier.pkl')\n"
   ]
  },
  {
   "cell_type": "code",
   "execution_count": null,
   "id": "6e2f2998",
   "metadata": {},
   "outputs": [],
   "source": []
  }
 ],
 "metadata": {
  "kaggle": {
   "accelerator": "nvidiaTeslaT4",
   "dataSources": [
    {
     "datasetId": 55,
     "sourceId": 120,
     "sourceType": "datasetVersion"
    },
    {
     "datasetId": 483,
     "sourceId": 982,
     "sourceType": "datasetVersion"
    },
    {
     "datasetId": 1618,
     "sourceId": 2879,
     "sourceType": "datasetVersion"
    },
    {
     "datasetId": 2050,
     "sourceId": 3494,
     "sourceType": "datasetVersion"
    },
    {
     "datasetId": 91827,
     "sourceId": 213216,
     "sourceType": "datasetVersion"
    },
    {
     "datasetId": 109196,
     "sourceId": 260807,
     "sourceType": "datasetVersion"
    },
    {
     "datasetId": 547699,
     "sourceId": 998616,
     "sourceType": "datasetVersion"
    },
    {
     "datasetId": 946753,
     "sourceId": 1603933,
     "sourceType": "datasetVersion"
    },
    {
     "datasetId": 1029317,
     "sourceId": 1735657,
     "sourceType": "datasetVersion"
    },
    {
     "datasetId": 1422521,
     "sourceId": 2355807,
     "sourceType": "datasetVersion"
    },
    {
     "sourceId": 46853122,
     "sourceType": "kernelVersion"
    }
   ],
   "dockerImageVersionId": 30558,
   "isGpuEnabled": true,
   "isInternetEnabled": true,
   "language": "python",
   "sourceType": "notebook"
  },
  "kernelspec": {
   "display_name": "Python 3 (ipykernel)",
   "language": "python",
   "name": "python3"
  },
  "language_info": {
   "codemirror_mode": {
    "name": "ipython",
    "version": 3
   },
   "file_extension": ".py",
   "mimetype": "text/x-python",
   "name": "python",
   "nbconvert_exporter": "python",
   "pygments_lexer": "ipython3",
   "version": "3.11.5"
  },
  "papermill": {
   "default_parameters": {},
   "duration": 143.095498,
   "end_time": "2024-02-13T04:18:28.862490",
   "environment_variables": {},
   "exception": null,
   "input_path": "__notebook__.ipynb",
   "output_path": "__notebook__.ipynb",
   "parameters": {},
   "start_time": "2024-02-13T04:16:05.766992",
   "version": "2.4.0"
  }
 },
 "nbformat": 4,
 "nbformat_minor": 5
}
